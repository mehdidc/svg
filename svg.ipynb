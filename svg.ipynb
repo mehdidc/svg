{
 "cells": [
  {
   "cell_type": "code",
   "execution_count": 1,
   "metadata": {
    "collapsed": false
   },
   "outputs": [
    {
     "name": "stdout",
     "output_type": "stream",
     "text": [
      "Couldn't import dot_parser, loading of dot files will not be possible.\n"
     ]
    },
    {
     "name": "stderr",
     "output_type": "stream",
     "text": [
      "Using gpu device 0: Tesla K20Xm (CNMeM is disabled)\n"
     ]
    }
   ],
   "source": [
    "import os\n",
    "%matplotlib inline\n",
    "os.environ[\"THEANO_FLAGS\"] = \"device=gpu,exception_verbosity=high\"\n",
    "import theano.tensor as T\n",
    "from collections import OrderedDict\n",
    "from lasagne import init, updates , layers\n",
    "w, h = 28, 28\n",
    "import theano"
   ]
  },
  {
   "cell_type": "code",
   "execution_count": null,
   "metadata": {
    "collapsed": false
   },
   "outputs": [],
   "source": [
    "import glob\n",
    "import os\n",
    "from skimage.io import imread\n",
    "import pandas as pd\n",
    "import numpy as np\n",
    "from skimage.transform import resize\n",
    "inputs = []\n",
    "outputs = []\n",
    "outputs_non_normalized = []\n",
    "x_min = []\n",
    "x_max = []\n",
    "y_min = []\n",
    "y_max = []\n",
    "for filename in glob.glob(\"png/*.png\"):\n",
    "    inp = resize(imread(filename), (w, h)).tolist()\n",
    "    inputs.append(inp)\n",
    "    name = (os.path.splitext(os.path.basename(filename))[0])\n",
    "    filename_txt = \"svg/{0}.svg.txt\".format(name)\n",
    "    df = pd.read_table(filename_txt, skiprows=1, \n",
    "                       sep=' ',\n",
    "                       names=[\"p1x\", \"p1y\", \"p2x\", \"p2y\", \"p3x\", \"p3y\", \"p4x\", \"p4y\"])\n",
    "    #df.loc[len(df)] = [-1] * 8\n",
    "    o = df.values.copy().astype(np.float32)\n",
    "    \n",
    "    outputs_non_normalized.append(o.copy())\n",
    "    \n",
    "    \n",
    "    s = slice(0, len(o))\n",
    "    m = (0, 2, 4, 6)\n",
    "    x_min.append(o[s, m].min())\n",
    "    x_max.append(o[s, m].max())\n",
    "    o[s, m] -= o[s, m].min()\n",
    "    o[s, m] /= o[s, m].max()\n",
    "    \n",
    "    m = (1, 3, 5, 7)\n",
    "    y_min.append(o[s, m].min())\n",
    "    y_max.append(o[s, m].max())\n",
    "    o[s, m] -= o[s, m].min()\n",
    "    o[s, m] /= o[s, m].max()\n",
    "    \n",
    "    #o = np.concatenate( (np.zeros((1, 8)), o), axis=0)    \n",
    "    #o =  o[1:, :] - o[0:-1, :]\n",
    "    o = np.concatenate( (np.zeros((1, 8)), o), axis=0)\n",
    "    o = np.concatenate( (o, np.zeros((1, 8))), axis=0)\n",
    "    o = o.astype(np.float32)\n",
    "    #o=o*2-1\n",
    "    outputs.append(o)\n",
    "\n",
    "inputs = np.array(inputs).astype(np.float32)\n",
    "inputs /= 255.\n",
    "inputs = 1 - inputs\n",
    "inputs = inputs.reshape((inputs.shape[0], w*h))"
   ]
  },
  {
   "cell_type": "code",
   "execution_count": null,
   "metadata": {
    "collapsed": true
   },
   "outputs": [],
   "source": [
    "from lasagne.layers import Layer\n",
    "class RepeatLayer(Layer):\n",
    "    \n",
    "    def __init__(self, incoming, shape, desired_shape, **kwargs):\n",
    "        super(RepeatLayer, self).__init__(incoming, **kwargs)\n",
    "        self.shape = shape\n",
    "        self.desired_shape = desired_shape\n",
    "        \n",
    "    def get_output_for(self, input, **kwargs):\n",
    "        input_ = input.dimshuffle(*self.desired_shape)\n",
    "        return input_ * T.ones(self.desired_shape)\n",
    "    \n",
    "    def get_output_shape_for(self, input_shape):\n",
    "        return [b if a == 'x' else input_shape[a] \n",
    "                for a, b in zip(self.shape, self.desired_shape)]\n",
    "\n",
    "class StepLayer(Layer):\n",
    "    def __init__(self, incoming, iteration_layer, **kwargs):\n",
    "        super(StepLayer, self).__init__(incoming, **kwargs)\n",
    "        self.iteration_layer = iteration_layer\n",
    "    \n",
    "    def get_output_for(self, input, **kwargs):\n",
    "        \n",
    "        def step(input_i):\n",
    "            return layers.get_output(self.iteration_layer, input_i)\n",
    "        sequences = [input]\n",
    "        return theano.scan(fn=step, sequences=sequences, \n",
    "                           outputs_info=None,\n",
    "                           strict=False)[0]\n",
    "    \n",
    "    def get_output_shape_for(self, input_shape):\n",
    "        return tuple([input_shape[0]] + list(self.iteration_layer.output_shape))"
   ]
  },
  {
   "cell_type": "code",
   "execution_count": null,
   "metadata": {
    "collapsed": false
   },
   "outputs": [],
   "source": [
    "import lasagne.layers\n",
    "from lasagne.layers import Gate\n",
    "from lasagne.init import HeUniform\n",
    "from lasagnekit.generative.capsule import Capsule\n",
    "from lasagnekit.easy import LightweightModel, BatchOptimizer\n",
    "n_in = 8\n",
    "n_hid = 800\n",
    "size_mixture = 20\n",
    "n_out = 8 * 2 * size_mixture + size_mixture\n",
    "nb_layers = 2\n",
    "l_in = lasagne.layers.InputLayer((None, None, n_in))\n",
    "l_rec = l_in\n",
    "for i in range(nb_layers):\n",
    "    l_rec = lasagne.layers.LSTMLayer(l_rec, n_hid, grad_clipping=10)\n",
    "    #l_rec = lasagne.layers.RecurrentLayer(l_rec, n_hid, \n",
    "    #                                      W_in_to_hid=HeUniform(), \n",
    "    #                                      grad_clipping=10,\n",
    "    #                                      W_hid_to_hid=HeUniform())\n",
    "\n",
    "l_out = lasagne.layers.LSTMLayer(l_rec, n_out, grad_clipping=10, \n",
    "                                 nonlinearity=lasagne.nonlinearities.linear)\n",
    "#l_out = lasagne.layers.RecurrentLayer(l_rec, n_out, \n",
    "#                                      W_in_to_hid=HeUniform(),\n",
    "#                                      W_hid_to_hid=HeUniform(),\n",
    "#                                      grad_clipping=10,\n",
    "#                                      nonlinearity=lasagne.nonlinearities.linear)\n",
    "model = LightweightModel([l_in], [l_out])"
   ]
  },
  {
   "cell_type": "code",
   "execution_count": null,
   "metadata": {
    "collapsed": false
   },
   "outputs": [],
   "source": [
    "input_variables = OrderedDict()\n",
    "input_variables[\"X\"] = dict(tensor_type=T.tensor3)\n",
    "input_variables[\"y\"] = dict(tensor_type=T.tensor3)"
   ]
  },
  {
   "cell_type": "code",
   "execution_count": null,
   "metadata": {
    "collapsed": false
   },
   "outputs": [],
   "source": [
    "from lasagnekit.easy import log_sum_exp\n",
    "\n",
    "def softmax(x, axis=1):\n",
    "    e_x = T.exp(x - x.max(axis=axis, keepdims=True))\n",
    "    out = e_x / e_x.sum(axis=axis, keepdims=True)\n",
    "    return out\n",
    "    \n",
    "class MyBatchOptimizer(BatchOptimizer):\n",
    "    \n",
    "    def iter_update(self, epoch, nb_batches, iter_update_batch):\n",
    "        status = super(MyBatchOptimizer, self).iter_update(epoch, nb_batches, iter_update_batch)\n",
    "        return status\n",
    "    \n",
    "batch_optimizer = MyBatchOptimizer(\n",
    "    verbose=1,\n",
    "    max_nb_epochs=1000,\n",
    "    batch_size=1,\n",
    "    optimization_procedure=(updates.rmsprop, \n",
    "                            {\"learning_rate\": 0.0001}),\n",
    ")\n",
    "\n",
    "def gaussian_ll(X, x_mean_hat, x_log_sigma_hat):\n",
    "    # x_mean_hat and x_sigma_hat computed by a neural network\n",
    "    x_hat = X - x_mean_hat\n",
    "    ll = -0.5 * ((x_hat ** 2) / T.exp(2. * x_log_sigma_hat) + 2 * x_log_sigma_hat) - 0.5*np.log(2*np.pi)\n",
    "    return ll\n",
    "\n",
    "def extract_from_y_dist(y_dist):\n",
    "    y_dist_mixtures =    y_dist[:, :, 0:size_mixture*8*2]\n",
    "    y_dist_mixtures = y_dist_mixtures.reshape((y_dist_mixtures.shape[0], \n",
    "                                               y_dist_mixtures.shape[1], \n",
    "                                               size_mixture, 2, 8))\n",
    "    y_mean = T.tanh(y_dist_mixtures[:, :, :, 0, :])\n",
    "    y_std = T.exp(y_dist_mixtures[:, :, :, 1, :])\n",
    "    \n",
    "    #100, 25, 7, 8\n",
    "    y_dist_proportions = y_dist[:, :, size_mixture*8*2:]\n",
    "    y_dist_proportions = y_dist_proportions.reshape((y_dist_proportions.shape[0],\n",
    "                                                     y_dist_proportions.shape[1],\n",
    "                                                     size_mixture,\n",
    "                                                    ))\n",
    "    # 100, 25, 7\n",
    "    y_dist_proportions = softmax(y_dist_proportions, axis=2)\n",
    "    return y_mean, y_std, y_dist_proportions\n",
    "\n",
    "\n",
    "\n",
    "\n",
    "\n",
    "def loss_function(model, tensors):\n",
    "    tx = tensors[\"X\"]\n",
    "    ty = tensors[\"y\"]\n",
    "    \n",
    "    x = tx\n",
    "    y_dist, = model.get_output(x)\n",
    "    #8 means, 8 stds for each mixture\n",
    "    \n",
    "    y_mean, y_std, y_dist_proportions = extract_from_y_dist(y_dist)\n",
    "\n",
    "    #y_mean : 100, 25, 7, 8\n",
    "    #y_std  : 100, 25, 7, 8\n",
    "    #dist_proportions : 100, 25, 7, 8\n",
    "    # y     : 100, 25, 8\n",
    "    \n",
    "    y_ = ty.dimshuffle(0, 1, 'x', 2)\n",
    "    \n",
    "    #100, 25, 7\n",
    "    per_mixture = gaussian_ll(y_, y_mean, y_std).sum(axis=3) + T.log(y_dist_proportions)\n",
    "    #100, 25, 7\n",
    "    per_example_and_time = log_sum_exp(per_mixture, axis=2)\n",
    "    per_example = per_example_and_time.sum(axis=1).mean()\n",
    "    return -per_example\n",
    "\n",
    "functions = dict(\n",
    "    encode=dict(\n",
    "        get_output=lambda model, X:model.get_output(X)[0],\n",
    "        params=[\"X\"]\n",
    "    ),\n",
    "    extract_from_y_dist=dict(\n",
    "        get_output=lambda model, X: extract_from_y_dist(model.get_output(X)[0]),\n",
    "        params=[\"X\"]\n",
    "    )\n",
    ")\n",
    "\n",
    "capsule = Capsule(\n",
    "    input_variables, \n",
    "    model,\n",
    "    loss_function,\n",
    "    functions=functions,\n",
    "    batch_optimizer=batch_optimizer,\n",
    ")"
   ]
  },
  {
   "cell_type": "code",
   "execution_count": null,
   "metadata": {
    "collapsed": false
   },
   "outputs": [],
   "source": [
    "outputs_normal = [o[0:-1] for o in outputs]\n",
    "outputs_shifted = [o[1:] for o in outputs]"
   ]
  },
  {
   "cell_type": "code",
   "execution_count": null,
   "metadata": {
    "collapsed": false,
    "scrolled": true
   },
   "outputs": [],
   "source": [
    "capsule.fit(X=outputs_normal, y=outputs_shifted)"
   ]
  },
  {
   "cell_type": "code",
   "execution_count": null,
   "metadata": {
    "collapsed": false
   },
   "outputs": [],
   "source": [
    "from lasagnekit.easy import get_stat\n",
    "import matplotlib.pyplot as plt\n",
    "plt.plot(get_stat(\"loss_train\", capsule.batch_optimizer.stats))"
   ]
  },
  {
   "cell_type": "code",
   "execution_count": null,
   "metadata": {
    "collapsed": false
   },
   "outputs": [],
   "source": [
    "#np.abs(capsule.encode(inputs[0:1])-outputs[0])"
   ]
  },
  {
   "cell_type": "code",
   "execution_count": null,
   "metadata": {
    "collapsed": false
   },
   "outputs": [],
   "source": [
    "template = \"\"\"\n",
    "<svg version=\"1.0\" width=\"300\" height=\"300\"\n",
    "     xmlns=\"http://www.w3.org/2000/svg\" \n",
    "     xmlns:xlink=\"http://www.w3.org/1999/xlink\">\n",
    "     {0}\n",
    "</svg> \n",
    "\"\"\"\n",
    "path_template = \"\"\"\"<path d=\"M {x1},{y1} C {cx},{cy} {x2},{y2} {x3},{y3}\" \n",
    "                          stroke-width=\"5\" style=\"fill:none;stroke:black;\"/>\"\"\"\n",
    "\n",
    "def gen_path(x1, y1, cx, cy, x2, y2, x3, y3):\n",
    "    return path_template.format(x1=x1, y1=y1, cx=cx, cy=cy, x2=x2, y2=y2, x3=x3, y3=y3)\n",
    "def gen_svg_from_output(output):\n",
    "    o = output.copy()\n",
    "    o[:, (0, 2, 4, 6)] *= 200\n",
    "    o[:, (0, 2, 4, 6)] += 50\n",
    "    o[:, (1, 3, 5, 7)] *= 200\n",
    "    o[:, (1, 3, 5, 7)] += 50\n",
    "    assert output.shape[1] == 8\n",
    "    s = \"\"\n",
    "    for out in o:\n",
    "        s += gen_path(*out) + \"\\n\"\n",
    "    return template.format(s)\n"
   ]
  },
  {
   "cell_type": "code",
   "execution_count": null,
   "metadata": {
    "collapsed": true
   },
   "outputs": [],
   "source": [
    "def generate(model, initial=None, nb_steps=1):\n",
    "    if initial is None:\n",
    "        initial = np.zeros((8,)).astype(np.float32)\n",
    "    generated = np.zeros((1, nb_steps + 1, 8)).astype(np.float32)\n",
    "    generated[0, 0] = initial\n",
    "    # (one example, one time step, 8)\n",
    "    x = initial[None, None, :]\n",
    "    for i in range(1, nb_steps):\n",
    "        y_mean, y_std, y_dist_proportions = model.extract_from_y_dist(generated[:, 0:i, :])\n",
    "        y_dist_proportions = y_dist_proportions[0, i - 1] #** 0.1\n",
    "        \n",
    "        mixture_id = y_dist_proportions.argmax()\n",
    "        y_dist_proportions[-1] = 1 - y_dist_proportions[0:-1].sum()\n",
    "        #mixture_id = np.random.multinomial(1, y_dist_proportions).argmax()\n",
    "        y_mean = y_mean[0, i - 1, mixture_id]\n",
    "        y_std = y_std[0, i - 1, mixture_id]\n",
    "        y_gen = np.random.multivariate_normal(y_mean, (np.diag(y_std**2)))\n",
    "     \n",
    "        #generated[i] = outputs[0][i]\n",
    "        generated[0, i, :] = y_gen# + generated[0, i - 1, :]\n",
    "        \n",
    "    return generated[0]"
   ]
  },
  {
   "cell_type": "code",
   "execution_count": null,
   "metadata": {
    "collapsed": false
   },
   "outputs": [],
   "source": [
    "from IPython.display import SVG, display\n",
    "from IPython.core.display import display_svg\n",
    "for i in range(1):\n",
    "    #o = outputs_normal[0].copy()\n",
    "    o = generate(capsule, nb_steps=25)\n",
    "    \n",
    "    #o[1:] += o[0:-1]\n",
    "    \n",
    "    #break\n",
    "    display_svg(SVG(data=gen_svg_from_output(o)))"
   ]
  },
  {
   "cell_type": "code",
   "execution_count": null,
   "metadata": {
    "collapsed": true
   },
   "outputs": [],
   "source": []
  },
  {
   "cell_type": "code",
   "execution_count": null,
   "metadata": {
    "collapsed": true
   },
   "outputs": [],
   "source": []
  }
 ],
 "metadata": {
  "kernelspec": {
   "display_name": "Python 2",
   "language": "python",
   "name": "python2"
  },
  "language_info": {
   "codemirror_mode": {
    "name": "ipython",
    "version": 2
   },
   "file_extension": ".py",
   "mimetype": "text/x-python",
   "name": "python",
   "nbconvert_exporter": "python",
   "pygments_lexer": "ipython2",
   "version": "2.7.10"
  }
 },
 "nbformat": 4,
 "nbformat_minor": 0
}
