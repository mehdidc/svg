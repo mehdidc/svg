{
 "cells": [
  {
   "cell_type": "code",
   "execution_count": 56,
   "metadata": {
    "collapsed": false
   },
   "outputs": [],
   "source": [
    "import numpy as np\n",
    "from  data import read_from_bezier_file\n",
    "from svg import gen_svg_from_output\n",
    "from IPython.display import SVG, display, clear_output"
   ]
  },
  {
   "cell_type": "code",
   "execution_count": 61,
   "metadata": {
    "collapsed": false
   },
   "outputs": [
    {
     "data": {
      "image/svg+xml": [
       "<svg height=\"300\" version=\"1.0\" width=\"300\" xmlns=\"http://www.w3.org/2000/svg\" xmlns:xlink=\"http://www.w3.org/1999/xlink\">\n",
       "     &quot;<path d=\"M 50.0,50.0 C 150.0,230.0 250.0,150.0 250.0,250.0\" stroke-width=\"5\" style=\"fill:none;stroke:black;\"/>\n",
       "\n",
       "</svg>"
      ],
      "text/plain": [
       "<IPython.core.display.SVG object>"
      ]
     },
     "metadata": {},
     "output_type": "display_data"
    }
   ],
   "source": [
    "import time\n",
    "for i in range(10):\n",
    "    o = [\n",
    "        [0, 0, 0.5, i/10., 1, 0.5, 1, 1]\n",
    "    ]\n",
    "    o = np.array(o)\n",
    "    with open(\"out.svg\", \"w\") as fd:\n",
    "        fd.write(gen_svg_from_output(o))\n",
    "    clear_output()\n",
    "    display(SVG(\"out.svg\"))\n",
    "    time.sleep(0.1)"
   ]
  },
  {
   "cell_type": "code",
   "execution_count": null,
   "metadata": {
    "collapsed": true
   },
   "outputs": [],
   "source": []
  }
 ],
 "metadata": {
  "kernelspec": {
   "display_name": "Python 2",
   "language": "python",
   "name": "python2"
  },
  "language_info": {
   "codemirror_mode": {
    "name": "ipython",
    "version": 2
   },
   "file_extension": ".py",
   "mimetype": "text/x-python",
   "name": "python",
   "nbconvert_exporter": "python",
   "pygments_lexer": "ipython2",
   "version": "2.7.10"
  }
 },
 "nbformat": 4,
 "nbformat_minor": 0
}
